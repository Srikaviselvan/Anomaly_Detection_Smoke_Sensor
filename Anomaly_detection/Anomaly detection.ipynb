{
 "cells": [
  {
   "cell_type": "code",
   "execution_count": 1,
   "id": "7a52569c",
   "metadata": {},
   "outputs": [],
   "source": [
    "import numpy as np\n",
    "import pandas as pd\n",
    "from sklearn.model_selection import train_test_split\n",
    "from sklearn.ensemble import IsolationForest\n",
    "from sklearn.preprocessing import StandardScaler"
   ]
  },
  {
   "cell_type": "code",
   "execution_count": 2,
   "id": "a0da1fea",
   "metadata": {},
   "outputs": [],
   "source": [
    "data = pd.read_csv('sensor.csv')"
   ]
  },
  {
   "cell_type": "code",
   "execution_count": 3,
   "id": "0e3cb1cb",
   "metadata": {},
   "outputs": [
    {
     "data": {
      "text/plain": [
       "array(['NORMAL', 'BROKEN', 'RECOVERING'], dtype=object)"
      ]
     },
     "execution_count": 3,
     "metadata": {},
     "output_type": "execute_result"
    }
   ],
   "source": [
    "data['machine_status'].unique()"
   ]
  },
  {
   "cell_type": "code",
   "execution_count": 10,
   "id": "2da7f9e6",
   "metadata": {},
   "outputs": [],
   "source": [
    "# Drop unnecessary columns (like 'Unnamed: 0' and 'timestamp')\n",
    "data_drop = data.drop(columns=['Unnamed: 0', 'timestamp','sensor_15'])"
   ]
  },
  {
   "cell_type": "code",
   "execution_count": 11,
   "id": "acd4a042",
   "metadata": {},
   "outputs": [
    {
     "data": {
      "text/html": [
       "<div>\n",
       "<style scoped>\n",
       "    .dataframe tbody tr th:only-of-type {\n",
       "        vertical-align: middle;\n",
       "    }\n",
       "\n",
       "    .dataframe tbody tr th {\n",
       "        vertical-align: top;\n",
       "    }\n",
       "\n",
       "    .dataframe thead th {\n",
       "        text-align: right;\n",
       "    }\n",
       "</style>\n",
       "<table border=\"1\" class=\"dataframe\">\n",
       "  <thead>\n",
       "    <tr style=\"text-align: right;\">\n",
       "      <th></th>\n",
       "      <th>sensor_00</th>\n",
       "      <th>sensor_01</th>\n",
       "      <th>sensor_02</th>\n",
       "      <th>sensor_03</th>\n",
       "      <th>sensor_04</th>\n",
       "      <th>sensor_05</th>\n",
       "      <th>sensor_06</th>\n",
       "      <th>sensor_07</th>\n",
       "      <th>sensor_08</th>\n",
       "      <th>sensor_09</th>\n",
       "      <th>...</th>\n",
       "      <th>sensor_43</th>\n",
       "      <th>sensor_44</th>\n",
       "      <th>sensor_45</th>\n",
       "      <th>sensor_46</th>\n",
       "      <th>sensor_47</th>\n",
       "      <th>sensor_48</th>\n",
       "      <th>sensor_49</th>\n",
       "      <th>sensor_50</th>\n",
       "      <th>sensor_51</th>\n",
       "      <th>machine_status</th>\n",
       "    </tr>\n",
       "  </thead>\n",
       "  <tbody>\n",
       "    <tr>\n",
       "      <th>0</th>\n",
       "      <td>2.465394</td>\n",
       "      <td>47.09201</td>\n",
       "      <td>53.211800</td>\n",
       "      <td>46.310760</td>\n",
       "      <td>634.375000</td>\n",
       "      <td>76.45975</td>\n",
       "      <td>13.41146</td>\n",
       "      <td>16.13136</td>\n",
       "      <td>15.56713</td>\n",
       "      <td>15.05353</td>\n",
       "      <td>...</td>\n",
       "      <td>41.92708</td>\n",
       "      <td>39.641200</td>\n",
       "      <td>65.68287</td>\n",
       "      <td>50.92593</td>\n",
       "      <td>38.194440</td>\n",
       "      <td>157.9861</td>\n",
       "      <td>67.70834</td>\n",
       "      <td>243.0556</td>\n",
       "      <td>201.3889</td>\n",
       "      <td>NORMAL</td>\n",
       "    </tr>\n",
       "    <tr>\n",
       "      <th>1</th>\n",
       "      <td>2.465394</td>\n",
       "      <td>47.09201</td>\n",
       "      <td>53.211800</td>\n",
       "      <td>46.310760</td>\n",
       "      <td>634.375000</td>\n",
       "      <td>76.45975</td>\n",
       "      <td>13.41146</td>\n",
       "      <td>16.13136</td>\n",
       "      <td>15.56713</td>\n",
       "      <td>15.05353</td>\n",
       "      <td>...</td>\n",
       "      <td>41.92708</td>\n",
       "      <td>39.641200</td>\n",
       "      <td>65.68287</td>\n",
       "      <td>50.92593</td>\n",
       "      <td>38.194440</td>\n",
       "      <td>157.9861</td>\n",
       "      <td>67.70834</td>\n",
       "      <td>243.0556</td>\n",
       "      <td>201.3889</td>\n",
       "      <td>NORMAL</td>\n",
       "    </tr>\n",
       "    <tr>\n",
       "      <th>2</th>\n",
       "      <td>2.444734</td>\n",
       "      <td>47.35243</td>\n",
       "      <td>53.211800</td>\n",
       "      <td>46.397570</td>\n",
       "      <td>638.888900</td>\n",
       "      <td>73.54598</td>\n",
       "      <td>13.32465</td>\n",
       "      <td>16.03733</td>\n",
       "      <td>15.61777</td>\n",
       "      <td>15.01013</td>\n",
       "      <td>...</td>\n",
       "      <td>41.66666</td>\n",
       "      <td>39.351852</td>\n",
       "      <td>65.39352</td>\n",
       "      <td>51.21528</td>\n",
       "      <td>38.194443</td>\n",
       "      <td>155.9606</td>\n",
       "      <td>67.12963</td>\n",
       "      <td>241.3194</td>\n",
       "      <td>203.7037</td>\n",
       "      <td>NORMAL</td>\n",
       "    </tr>\n",
       "    <tr>\n",
       "      <th>3</th>\n",
       "      <td>2.460474</td>\n",
       "      <td>47.09201</td>\n",
       "      <td>53.168400</td>\n",
       "      <td>46.397568</td>\n",
       "      <td>628.125000</td>\n",
       "      <td>76.98898</td>\n",
       "      <td>13.31742</td>\n",
       "      <td>16.24711</td>\n",
       "      <td>15.69734</td>\n",
       "      <td>15.08247</td>\n",
       "      <td>...</td>\n",
       "      <td>40.88541</td>\n",
       "      <td>39.062500</td>\n",
       "      <td>64.81481</td>\n",
       "      <td>51.21528</td>\n",
       "      <td>38.194440</td>\n",
       "      <td>155.9606</td>\n",
       "      <td>66.84028</td>\n",
       "      <td>240.4514</td>\n",
       "      <td>203.1250</td>\n",
       "      <td>NORMAL</td>\n",
       "    </tr>\n",
       "    <tr>\n",
       "      <th>4</th>\n",
       "      <td>2.445718</td>\n",
       "      <td>47.13541</td>\n",
       "      <td>53.211800</td>\n",
       "      <td>46.397568</td>\n",
       "      <td>636.458300</td>\n",
       "      <td>76.58897</td>\n",
       "      <td>13.35359</td>\n",
       "      <td>16.21094</td>\n",
       "      <td>15.69734</td>\n",
       "      <td>15.08247</td>\n",
       "      <td>...</td>\n",
       "      <td>41.40625</td>\n",
       "      <td>38.773150</td>\n",
       "      <td>65.10416</td>\n",
       "      <td>51.79398</td>\n",
       "      <td>38.773150</td>\n",
       "      <td>158.2755</td>\n",
       "      <td>66.55093</td>\n",
       "      <td>242.1875</td>\n",
       "      <td>201.3889</td>\n",
       "      <td>NORMAL</td>\n",
       "    </tr>\n",
       "    <tr>\n",
       "      <th>...</th>\n",
       "      <td>...</td>\n",
       "      <td>...</td>\n",
       "      <td>...</td>\n",
       "      <td>...</td>\n",
       "      <td>...</td>\n",
       "      <td>...</td>\n",
       "      <td>...</td>\n",
       "      <td>...</td>\n",
       "      <td>...</td>\n",
       "      <td>...</td>\n",
       "      <td>...</td>\n",
       "      <td>...</td>\n",
       "      <td>...</td>\n",
       "      <td>...</td>\n",
       "      <td>...</td>\n",
       "      <td>...</td>\n",
       "      <td>...</td>\n",
       "      <td>...</td>\n",
       "      <td>...</td>\n",
       "      <td>...</td>\n",
       "      <td>...</td>\n",
       "    </tr>\n",
       "    <tr>\n",
       "      <th>220315</th>\n",
       "      <td>2.407350</td>\n",
       "      <td>47.69965</td>\n",
       "      <td>50.520830</td>\n",
       "      <td>43.142361</td>\n",
       "      <td>634.722229</td>\n",
       "      <td>64.59095</td>\n",
       "      <td>15.11863</td>\n",
       "      <td>16.65220</td>\n",
       "      <td>15.65393</td>\n",
       "      <td>15.16204</td>\n",
       "      <td>...</td>\n",
       "      <td>38.28125</td>\n",
       "      <td>68.287030</td>\n",
       "      <td>52.37268</td>\n",
       "      <td>48.32176</td>\n",
       "      <td>41.087960</td>\n",
       "      <td>212.3843</td>\n",
       "      <td>153.64580</td>\n",
       "      <td>NaN</td>\n",
       "      <td>231.1921</td>\n",
       "      <td>NORMAL</td>\n",
       "    </tr>\n",
       "    <tr>\n",
       "      <th>220316</th>\n",
       "      <td>2.400463</td>\n",
       "      <td>47.69965</td>\n",
       "      <td>50.564240</td>\n",
       "      <td>43.142361</td>\n",
       "      <td>630.902771</td>\n",
       "      <td>65.83363</td>\n",
       "      <td>15.15480</td>\n",
       "      <td>16.70284</td>\n",
       "      <td>15.65393</td>\n",
       "      <td>15.11863</td>\n",
       "      <td>...</td>\n",
       "      <td>38.28125</td>\n",
       "      <td>66.840280</td>\n",
       "      <td>50.63657</td>\n",
       "      <td>48.03241</td>\n",
       "      <td>40.798610</td>\n",
       "      <td>213.8310</td>\n",
       "      <td>156.25000</td>\n",
       "      <td>NaN</td>\n",
       "      <td>231.1921</td>\n",
       "      <td>NORMAL</td>\n",
       "    </tr>\n",
       "    <tr>\n",
       "      <th>220317</th>\n",
       "      <td>2.396528</td>\n",
       "      <td>47.69965</td>\n",
       "      <td>50.520830</td>\n",
       "      <td>43.142361</td>\n",
       "      <td>625.925903</td>\n",
       "      <td>67.29445</td>\n",
       "      <td>15.08970</td>\n",
       "      <td>16.70284</td>\n",
       "      <td>15.69734</td>\n",
       "      <td>15.11863</td>\n",
       "      <td>...</td>\n",
       "      <td>39.06250</td>\n",
       "      <td>65.393520</td>\n",
       "      <td>48.90046</td>\n",
       "      <td>48.03241</td>\n",
       "      <td>40.798610</td>\n",
       "      <td>217.3032</td>\n",
       "      <td>155.38190</td>\n",
       "      <td>NaN</td>\n",
       "      <td>232.0602</td>\n",
       "      <td>NORMAL</td>\n",
       "    </tr>\n",
       "    <tr>\n",
       "      <th>220318</th>\n",
       "      <td>2.406366</td>\n",
       "      <td>47.69965</td>\n",
       "      <td>50.520832</td>\n",
       "      <td>43.142361</td>\n",
       "      <td>635.648100</td>\n",
       "      <td>65.09175</td>\n",
       "      <td>15.11863</td>\n",
       "      <td>16.56539</td>\n",
       "      <td>15.74074</td>\n",
       "      <td>15.11863</td>\n",
       "      <td>...</td>\n",
       "      <td>40.62500</td>\n",
       "      <td>64.236110</td>\n",
       "      <td>47.74306</td>\n",
       "      <td>48.32176</td>\n",
       "      <td>40.509258</td>\n",
       "      <td>222.5116</td>\n",
       "      <td>153.93520</td>\n",
       "      <td>NaN</td>\n",
       "      <td>234.0856</td>\n",
       "      <td>NORMAL</td>\n",
       "    </tr>\n",
       "    <tr>\n",
       "      <th>220319</th>\n",
       "      <td>2.396528</td>\n",
       "      <td>47.69965</td>\n",
       "      <td>50.520832</td>\n",
       "      <td>43.142361</td>\n",
       "      <td>639.814800</td>\n",
       "      <td>65.45634</td>\n",
       "      <td>15.11863</td>\n",
       "      <td>16.65220</td>\n",
       "      <td>15.65393</td>\n",
       "      <td>15.01013</td>\n",
       "      <td>...</td>\n",
       "      <td>41.40625</td>\n",
       "      <td>62.789350</td>\n",
       "      <td>46.29630</td>\n",
       "      <td>48.90046</td>\n",
       "      <td>40.219910</td>\n",
       "      <td>227.4306</td>\n",
       "      <td>150.46300</td>\n",
       "      <td>NaN</td>\n",
       "      <td>234.0856</td>\n",
       "      <td>NORMAL</td>\n",
       "    </tr>\n",
       "  </tbody>\n",
       "</table>\n",
       "<p>220320 rows × 52 columns</p>\n",
       "</div>"
      ],
      "text/plain": [
       "        sensor_00  sensor_01  sensor_02  sensor_03   sensor_04  sensor_05  \\\n",
       "0        2.465394   47.09201  53.211800  46.310760  634.375000   76.45975   \n",
       "1        2.465394   47.09201  53.211800  46.310760  634.375000   76.45975   \n",
       "2        2.444734   47.35243  53.211800  46.397570  638.888900   73.54598   \n",
       "3        2.460474   47.09201  53.168400  46.397568  628.125000   76.98898   \n",
       "4        2.445718   47.13541  53.211800  46.397568  636.458300   76.58897   \n",
       "...           ...        ...        ...        ...         ...        ...   \n",
       "220315   2.407350   47.69965  50.520830  43.142361  634.722229   64.59095   \n",
       "220316   2.400463   47.69965  50.564240  43.142361  630.902771   65.83363   \n",
       "220317   2.396528   47.69965  50.520830  43.142361  625.925903   67.29445   \n",
       "220318   2.406366   47.69965  50.520832  43.142361  635.648100   65.09175   \n",
       "220319   2.396528   47.69965  50.520832  43.142361  639.814800   65.45634   \n",
       "\n",
       "        sensor_06  sensor_07  sensor_08  sensor_09  ...  sensor_43  sensor_44  \\\n",
       "0        13.41146   16.13136   15.56713   15.05353  ...   41.92708  39.641200   \n",
       "1        13.41146   16.13136   15.56713   15.05353  ...   41.92708  39.641200   \n",
       "2        13.32465   16.03733   15.61777   15.01013  ...   41.66666  39.351852   \n",
       "3        13.31742   16.24711   15.69734   15.08247  ...   40.88541  39.062500   \n",
       "4        13.35359   16.21094   15.69734   15.08247  ...   41.40625  38.773150   \n",
       "...           ...        ...        ...        ...  ...        ...        ...   \n",
       "220315   15.11863   16.65220   15.65393   15.16204  ...   38.28125  68.287030   \n",
       "220316   15.15480   16.70284   15.65393   15.11863  ...   38.28125  66.840280   \n",
       "220317   15.08970   16.70284   15.69734   15.11863  ...   39.06250  65.393520   \n",
       "220318   15.11863   16.56539   15.74074   15.11863  ...   40.62500  64.236110   \n",
       "220319   15.11863   16.65220   15.65393   15.01013  ...   41.40625  62.789350   \n",
       "\n",
       "        sensor_45  sensor_46  sensor_47  sensor_48  sensor_49  sensor_50  \\\n",
       "0        65.68287   50.92593  38.194440   157.9861   67.70834   243.0556   \n",
       "1        65.68287   50.92593  38.194440   157.9861   67.70834   243.0556   \n",
       "2        65.39352   51.21528  38.194443   155.9606   67.12963   241.3194   \n",
       "3        64.81481   51.21528  38.194440   155.9606   66.84028   240.4514   \n",
       "4        65.10416   51.79398  38.773150   158.2755   66.55093   242.1875   \n",
       "...           ...        ...        ...        ...        ...        ...   \n",
       "220315   52.37268   48.32176  41.087960   212.3843  153.64580        NaN   \n",
       "220316   50.63657   48.03241  40.798610   213.8310  156.25000        NaN   \n",
       "220317   48.90046   48.03241  40.798610   217.3032  155.38190        NaN   \n",
       "220318   47.74306   48.32176  40.509258   222.5116  153.93520        NaN   \n",
       "220319   46.29630   48.90046  40.219910   227.4306  150.46300        NaN   \n",
       "\n",
       "        sensor_51  machine_status  \n",
       "0        201.3889          NORMAL  \n",
       "1        201.3889          NORMAL  \n",
       "2        203.7037          NORMAL  \n",
       "3        203.1250          NORMAL  \n",
       "4        201.3889          NORMAL  \n",
       "...           ...             ...  \n",
       "220315   231.1921          NORMAL  \n",
       "220316   231.1921          NORMAL  \n",
       "220317   232.0602          NORMAL  \n",
       "220318   234.0856          NORMAL  \n",
       "220319   234.0856          NORMAL  \n",
       "\n",
       "[220320 rows x 52 columns]"
      ]
     },
     "execution_count": 11,
     "metadata": {},
     "output_type": "execute_result"
    }
   ],
   "source": [
    "data_drop"
   ]
  },
  {
   "cell_type": "code",
   "execution_count": 14,
   "id": "b60ed488",
   "metadata": {},
   "outputs": [],
   "source": [
    "# Handling missing values using linear interpolation\n",
    "data_interpolated = data_drop.interpolate(method='linear', limit_direction='forward', axis=0)"
   ]
  },
  {
   "cell_type": "code",
   "execution_count": 15,
   "id": "482d0313",
   "metadata": {},
   "outputs": [
    {
     "data": {
      "text/plain": [
       "sensor_00         0\n",
       "sensor_01         0\n",
       "sensor_02         0\n",
       "sensor_03         0\n",
       "sensor_04         0\n",
       "sensor_05         0\n",
       "sensor_06         0\n",
       "sensor_07         0\n",
       "sensor_08         0\n",
       "sensor_09         0\n",
       "sensor_10         0\n",
       "sensor_11         0\n",
       "sensor_12         0\n",
       "sensor_13         0\n",
       "sensor_14         0\n",
       "sensor_16         0\n",
       "sensor_17         0\n",
       "sensor_18         0\n",
       "sensor_19         0\n",
       "sensor_20         0\n",
       "sensor_21         0\n",
       "sensor_22         0\n",
       "sensor_23         0\n",
       "sensor_24         0\n",
       "sensor_25         0\n",
       "sensor_26         0\n",
       "sensor_27         0\n",
       "sensor_28         0\n",
       "sensor_29         0\n",
       "sensor_30         0\n",
       "sensor_31         0\n",
       "sensor_32         0\n",
       "sensor_33         0\n",
       "sensor_34         0\n",
       "sensor_35         0\n",
       "sensor_36         0\n",
       "sensor_37         0\n",
       "sensor_38         0\n",
       "sensor_39         0\n",
       "sensor_40         0\n",
       "sensor_41         0\n",
       "sensor_42         0\n",
       "sensor_43         0\n",
       "sensor_44         0\n",
       "sensor_45         0\n",
       "sensor_46         0\n",
       "sensor_47         0\n",
       "sensor_48         0\n",
       "sensor_49         0\n",
       "sensor_50         0\n",
       "sensor_51         0\n",
       "machine_status    0\n",
       "dtype: int64"
      ]
     },
     "execution_count": 15,
     "metadata": {},
     "output_type": "execute_result"
    }
   ],
   "source": [
    "data_interpolated.isnull().sum()"
   ]
  },
  {
   "cell_type": "code",
   "execution_count": 16,
   "id": "0b0662db",
   "metadata": {},
   "outputs": [],
   "source": [
    "# Splitting features and target variable\n",
    "X = data_interpolated.drop(columns=['machine_status'])  # Features\n",
    "y = data_interpolated['machine_status']  # Target"
   ]
  },
  {
   "cell_type": "code",
   "execution_count": 17,
   "id": "2304579a",
   "metadata": {},
   "outputs": [],
   "source": [
    "# Splitting data into train and test sets\n",
    "X_train, X_test, y_train, y_test = train_test_split(X, y, test_size=0.2, random_state=42)"
   ]
  },
  {
   "cell_type": "code",
   "execution_count": 18,
   "id": "cac7cbe3",
   "metadata": {},
   "outputs": [],
   "source": [
    "# Scaling the features\n",
    "scaler = StandardScaler()\n",
    "X_train_scaled = scaler.fit_transform(X_train)\n",
    "X_test_scaled = scaler.transform(X_test)"
   ]
  },
  {
   "cell_type": "code",
   "execution_count": 19,
   "id": "a2ba4f31",
   "metadata": {},
   "outputs": [
    {
     "data": {
      "text/html": [
       "<style>#sk-container-id-1 {color: black;background-color: white;}#sk-container-id-1 pre{padding: 0;}#sk-container-id-1 div.sk-toggleable {background-color: white;}#sk-container-id-1 label.sk-toggleable__label {cursor: pointer;display: block;width: 100%;margin-bottom: 0;padding: 0.3em;box-sizing: border-box;text-align: center;}#sk-container-id-1 label.sk-toggleable__label-arrow:before {content: \"▸\";float: left;margin-right: 0.25em;color: #696969;}#sk-container-id-1 label.sk-toggleable__label-arrow:hover:before {color: black;}#sk-container-id-1 div.sk-estimator:hover label.sk-toggleable__label-arrow:before {color: black;}#sk-container-id-1 div.sk-toggleable__content {max-height: 0;max-width: 0;overflow: hidden;text-align: left;background-color: #f0f8ff;}#sk-container-id-1 div.sk-toggleable__content pre {margin: 0.2em;color: black;border-radius: 0.25em;background-color: #f0f8ff;}#sk-container-id-1 input.sk-toggleable__control:checked~div.sk-toggleable__content {max-height: 200px;max-width: 100%;overflow: auto;}#sk-container-id-1 input.sk-toggleable__control:checked~label.sk-toggleable__label-arrow:before {content: \"▾\";}#sk-container-id-1 div.sk-estimator input.sk-toggleable__control:checked~label.sk-toggleable__label {background-color: #d4ebff;}#sk-container-id-1 div.sk-label input.sk-toggleable__control:checked~label.sk-toggleable__label {background-color: #d4ebff;}#sk-container-id-1 input.sk-hidden--visually {border: 0;clip: rect(1px 1px 1px 1px);clip: rect(1px, 1px, 1px, 1px);height: 1px;margin: -1px;overflow: hidden;padding: 0;position: absolute;width: 1px;}#sk-container-id-1 div.sk-estimator {font-family: monospace;background-color: #f0f8ff;border: 1px dotted black;border-radius: 0.25em;box-sizing: border-box;margin-bottom: 0.5em;}#sk-container-id-1 div.sk-estimator:hover {background-color: #d4ebff;}#sk-container-id-1 div.sk-parallel-item::after {content: \"\";width: 100%;border-bottom: 1px solid gray;flex-grow: 1;}#sk-container-id-1 div.sk-label:hover label.sk-toggleable__label {background-color: #d4ebff;}#sk-container-id-1 div.sk-serial::before {content: \"\";position: absolute;border-left: 1px solid gray;box-sizing: border-box;top: 0;bottom: 0;left: 50%;z-index: 0;}#sk-container-id-1 div.sk-serial {display: flex;flex-direction: column;align-items: center;background-color: white;padding-right: 0.2em;padding-left: 0.2em;position: relative;}#sk-container-id-1 div.sk-item {position: relative;z-index: 1;}#sk-container-id-1 div.sk-parallel {display: flex;align-items: stretch;justify-content: center;background-color: white;position: relative;}#sk-container-id-1 div.sk-item::before, #sk-container-id-1 div.sk-parallel-item::before {content: \"\";position: absolute;border-left: 1px solid gray;box-sizing: border-box;top: 0;bottom: 0;left: 50%;z-index: -1;}#sk-container-id-1 div.sk-parallel-item {display: flex;flex-direction: column;z-index: 1;position: relative;background-color: white;}#sk-container-id-1 div.sk-parallel-item:first-child::after {align-self: flex-end;width: 50%;}#sk-container-id-1 div.sk-parallel-item:last-child::after {align-self: flex-start;width: 50%;}#sk-container-id-1 div.sk-parallel-item:only-child::after {width: 0;}#sk-container-id-1 div.sk-dashed-wrapped {border: 1px dashed gray;margin: 0 0.4em 0.5em 0.4em;box-sizing: border-box;padding-bottom: 0.4em;background-color: white;}#sk-container-id-1 div.sk-label label {font-family: monospace;font-weight: bold;display: inline-block;line-height: 1.2em;}#sk-container-id-1 div.sk-label-container {text-align: center;}#sk-container-id-1 div.sk-container {/* jupyter's `normalize.less` sets `[hidden] { display: none; }` but bootstrap.min.css set `[hidden] { display: none !important; }` so we also need the `!important` here to be able to override the default hidden behavior on the sphinx rendered scikit-learn.org. See: https://github.com/scikit-learn/scikit-learn/issues/21755 */display: inline-block !important;position: relative;}#sk-container-id-1 div.sk-text-repr-fallback {display: none;}</style><div id=\"sk-container-id-1\" class=\"sk-top-container\"><div class=\"sk-text-repr-fallback\"><pre>IsolationForest(contamination=0.1, random_state=42)</pre><b>In a Jupyter environment, please rerun this cell to show the HTML representation or trust the notebook. <br />On GitHub, the HTML representation is unable to render, please try loading this page with nbviewer.org.</b></div><div class=\"sk-container\" hidden><div class=\"sk-item\"><div class=\"sk-estimator sk-toggleable\"><input class=\"sk-toggleable__control sk-hidden--visually\" id=\"sk-estimator-id-1\" type=\"checkbox\" checked><label for=\"sk-estimator-id-1\" class=\"sk-toggleable__label sk-toggleable__label-arrow\">IsolationForest</label><div class=\"sk-toggleable__content\"><pre>IsolationForest(contamination=0.1, random_state=42)</pre></div></div></div></div></div>"
      ],
      "text/plain": [
       "IsolationForest(contamination=0.1, random_state=42)"
      ]
     },
     "execution_count": 19,
     "metadata": {},
     "output_type": "execute_result"
    }
   ],
   "source": [
    "# Training the Isolation Forest model\n",
    "isolation_forest = IsolationForest(contamination=0.1, random_state=42)\n",
    "isolation_forest.fit(X_train_scaled)"
   ]
  },
  {
   "cell_type": "code",
   "execution_count": 20,
   "id": "9e7ae625",
   "metadata": {},
   "outputs": [],
   "source": [
    "# Predicting anomalies on the test set\n",
    "anomaly_scores = isolation_forest.decision_function(X_test_scaled)"
   ]
  },
  {
   "cell_type": "code",
   "execution_count": 21,
   "id": "d31d4891",
   "metadata": {},
   "outputs": [
    {
     "data": {
      "text/plain": [
       "array([ 0.17664353,  0.15347338,  0.16002662, ...,  0.15024213,\n",
       "       -0.01142855,  0.14404402])"
      ]
     },
     "execution_count": 21,
     "metadata": {},
     "output_type": "execute_result"
    }
   ],
   "source": [
    "anomaly_scores"
   ]
  },
  {
   "cell_type": "code",
   "execution_count": 22,
   "id": "101b8d60",
   "metadata": {},
   "outputs": [],
   "source": [
    "# Threshold for considering a data point as an anomaly\n",
    "threshold = np.percentile(anomaly_scores, 100 * 0.1)"
   ]
  },
  {
   "cell_type": "code",
   "execution_count": 23,
   "id": "f89846f9",
   "metadata": {},
   "outputs": [
    {
     "data": {
      "text/plain": [
       "0.001368078632460469"
      ]
     },
     "execution_count": 23,
     "metadata": {},
     "output_type": "execute_result"
    }
   ],
   "source": [
    "threshold"
   ]
  },
  {
   "cell_type": "code",
   "execution_count": 24,
   "id": "bbc527ab",
   "metadata": {},
   "outputs": [],
   "source": [
    "# Predict anomalies based on the threshold\n",
    "anomalies = X_test[anomaly_scores < threshold]"
   ]
  },
  {
   "cell_type": "code",
   "execution_count": 25,
   "id": "9c48b2f0",
   "metadata": {},
   "outputs": [],
   "source": [
    "# Identifying the sensor values with anomalies\n",
    "anomalous_sensors = anomalies.mean().idxmax()"
   ]
  },
  {
   "cell_type": "code",
   "execution_count": 26,
   "id": "eedb6cf7",
   "metadata": {},
   "outputs": [
    {
     "name": "stdout",
     "output_type": "stream",
     "text": [
      "Anomalous sensor: sensor_31\n"
     ]
    }
   ],
   "source": [
    "print(\"Anomalous sensor:\", anomalous_sensors)"
   ]
  },
  {
   "cell_type": "code",
   "execution_count": 28,
   "id": "7734faf5",
   "metadata": {},
   "outputs": [
    {
     "name": "stdout",
     "output_type": "stream",
     "text": [
      "Anomalous sensors: Index(['sensor_31', 'sensor_28', 'sensor_32', 'sensor_23', 'sensor_21'], dtype='object')\n"
     ]
    }
   ],
   "source": [
    "# Selecting multiple anomalous sensors based on a threshold or fixed number\n",
    "anomaly_indices = anomaly_scores < threshold  # or any other condition based on threshold\n",
    "anomalies = X_test[anomaly_indices]\n",
    "\n",
    "# Identifying multiple anomalous sensors\n",
    "num_sensors = 5  # Define the number of top anomalous sensors you want to identify\n",
    "anomalous_sensors = anomalies.mean().nlargest(num_sensors).index\n",
    "print(\"Anomalous sensors:\", anomalous_sensors)\n"
   ]
  },
  {
   "cell_type": "code",
   "execution_count": null,
   "id": "a5852732",
   "metadata": {},
   "outputs": [],
   "source": [
    "def get_anomalous_sensors(file_path):\n",
    "\n",
    "    data = pd.read_csv(file_path)\n",
    "    \n",
    "    data_drop = data.drop(columns=['Unnamed: 0', 'timestamp','sensor_15'])\n",
    "\n",
    "    data_interpolated = data_drop.interpolate(method='linear', limit_direction='forward', axis=0)\n",
    "\n",
    "    X = data_interpolated.drop(columns=['machine_status'])\n",
    "    y = data_interpolated['machine_status']\n",
    "\n",
    "    X_train, X_test, y_train, y_test = train_test_split(X, y, test_size=0.2, random_state=42)\n",
    "\n",
    "    scaler = StandardScaler()\n",
    "    X_train_scaled = scaler.fit_transform(X_train)\n",
    "    X_test_scaled = scaler.transform(X_test)\n",
    "\n",
    "    isolation_forest = IsolationForest(contamination=0.1, random_state=42)\n",
    "    isolation_forest.fit(X_train_scaled)\n",
    "\n",
    "    anomaly_scores = isolation_forest.decision_function(X_test_scaled)\n",
    "\n",
    "    threshold = np.percentile(anomaly_scores, 100 * 0.1)\n",
    "\n",
    "    anomalies = X_test[anomaly_scores < threshold]\n",
    "\n",
    "    anomalous_sensors = anomalies.mean().idxmax()\n",
    "\n",
    "    anomaly_indices = anomaly_scores < threshold\n",
    "    anomalies = X_test[anomaly_indices]\n",
    "\n",
    "    num_sensors = 5\n",
    "    anomalous_sensors = anomalies.mean().nlargest(num_sensors).index\n",
    "    anomalous_sensors = anomalous_sensors.tolist()\n",
    "    anomalous_sensors.sort()\n",
    "\n",
    "    return anomalous_sensors"
   ]
  }
 ],
 "metadata": {
  "kernelspec": {
   "display_name": "Python 3 (ipykernel)",
   "language": "python",
   "name": "python3"
  },
  "language_info": {
   "codemirror_mode": {
    "name": "ipython",
    "version": 3
   },
   "file_extension": ".py",
   "mimetype": "text/x-python",
   "name": "python",
   "nbconvert_exporter": "python",
   "pygments_lexer": "ipython3",
   "version": "3.10.9"
  }
 },
 "nbformat": 4,
 "nbformat_minor": 5
}
